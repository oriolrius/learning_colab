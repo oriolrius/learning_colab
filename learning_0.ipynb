{
  "nbformat": 4,
  "nbformat_minor": 0,
  "metadata": {
    "colab": {
      "name": "learning_0.ipynb",
      "provenance": [],
      "collapsed_sections": [],
      "mount_file_id": "1Fh3NDyHmp5dLXYNklUdemYVJWagNy-U0",
      "authorship_tag": "ABX9TyN89GZTdpcko4ACQfS4+2gh",
      "include_colab_link": true
    },
    "kernelspec": {
      "name": "python3",
      "display_name": "Python 3"
    },
    "language_info": {
      "name": "python"
    }
  },
  "cells": [
    {
      "cell_type": "markdown",
      "metadata": {
        "id": "view-in-github",
        "colab_type": "text"
      },
      "source": [
        "<a href=\"https://colab.research.google.com/github/oriolrius/learning_colab/blob/master/learning_0.ipynb\" target=\"_parent\"><img src=\"https://colab.research.google.com/assets/colab-badge.svg\" alt=\"Open In Colab\"/></a>"
      ]
    },
    {
      "cell_type": "markdown",
      "source": [
        "# This is going to be just for sampling\n",
        "\n",
        "![logo_v5.png](data:image/png;base64,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)"
      ],
      "metadata": {
        "id": "5bwoY86McSho"
      }
    },
    {
      "cell_type": "code",
      "source": [
        "from google.colab import files\n",
        "\n",
        "uploaded = files.upload()"
      ],
      "metadata": {
        "colab": {
          "resources": {
            "http://localhost:8080/nbextensions/google.colab/files.js": {
              "data": "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",
              "ok": true,
              "headers": [
                [
                  "content-type",
                  "application/javascript"
                ]
              ],
              "status": 200,
              "status_text": ""
            }
          },
          "base_uri": "https://localhost:8080/",
          "height": 109
        },
        "id": "X1QZedmMe2nh",
        "outputId": "46a84999-ed64-493d-d604-88a0d85e9c17"
      },
      "execution_count": 17,
      "outputs": [
        {
          "output_type": "display_data",
          "data": {
            "text/plain": [
              "<IPython.core.display.HTML object>"
            ],
            "text/html": [
              "\n",
              "     <input type=\"file\" id=\"files-01d4c374-a44c-4138-8f76-4ead1e274d8e\" name=\"files[]\" multiple disabled\n",
              "        style=\"border:none\" />\n",
              "     <output id=\"result-01d4c374-a44c-4138-8f76-4ead1e274d8e\">\n",
              "      Upload widget is only available when the cell has been executed in the\n",
              "      current browser session. Please rerun this cell to enable.\n",
              "      </output>\n",
              "      <script src=\"/nbextensions/google.colab/files.js\"></script> "
            ]
          },
          "metadata": {}
        },
        {
          "output_type": "stream",
          "name": "stdout",
          "text": [
            "Saving id_rsa to id_rsa\n",
            "Saving id_rsa.pub to id_rsa.pub\n"
          ]
        }
      ]
    },
    {
      "cell_type": "code",
      "source": [
        "!cd /root/.ssh\n",
        "!mkdir -p /root/.ssh\n",
        "!chmod 700 /root/.ssh\n",
        "!cp /content/id_rsa* /root/.ssh\n",
        "!chmod 600 /root/.ssh/*"
      ],
      "metadata": {
        "id": "ojLtmwd4fP58"
      },
      "execution_count": 23,
      "outputs": []
    },
    {
      "cell_type": "code",
      "source": [
        "!ssh-keyscan github.com >> /root/.ssh/known_hosts\n",
        "!chmod 644 /root/.ssh/known_hosts\n"
      ],
      "metadata": {
        "colab": {
          "base_uri": "https://localhost:8080/"
        },
        "id": "Hqckg8g5feo9",
        "outputId": "30145a53-656e-4c9e-f7e1-7ae7c5ac3a1b"
      },
      "execution_count": 24,
      "outputs": [
        {
          "output_type": "stream",
          "name": "stdout",
          "text": [
            "# github.com:22 SSH-2.0-babeld-f50a2ace\n",
            "# github.com:22 SSH-2.0-babeld-f50a2ace\n",
            "# github.com:22 SSH-2.0-babeld-f50a2ace\n"
          ]
        }
      ]
    },
    {
      "cell_type": "code",
      "execution_count": 26,
      "metadata": {
        "colab": {
          "base_uri": "https://localhost:8080/"
        },
        "id": "eTLlKtQcadPb",
        "outputId": "859f27a7-8f67-47c0-c8a9-81860de37b06"
      },
      "outputs": [
        {
          "output_type": "stream",
          "name": "stdout",
          "text": [
            "Cloning into 'learning_colab'...\n",
            "Warning: Permanently added the ECDSA host key for IP address '140.82.113.4' to the list of known hosts.\r\n",
            "warning: You appear to have cloned an empty repository.\n"
          ]
        }
      ],
      "source": [
        "!git clone git@github.com:oriolrius/learning_colab.git"
      ]
    },
    {
      "cell_type": "code",
      "source": [
        "path_clone = '/content/drive/MyDrive/workspace/learn'\n",
        "%cd '/content/drive/MyDrive/workspace/learn'"
      ],
      "metadata": {
        "colab": {
          "base_uri": "https://localhost:8080/"
        },
        "id": "Sg5DtRC2hBNG",
        "outputId": "c0f72282-4f19-40af-829d-9caca7262c35"
      },
      "execution_count": 42,
      "outputs": [
        {
          "output_type": "stream",
          "name": "stdout",
          "text": [
            "/content/drive/MyDrive/workspace/learn\n"
          ]
        }
      ]
    },
    {
      "cell_type": "code",
      "source": [
        "!cd /content/learning_colab\n",
        "!git init"
      ],
      "metadata": {
        "colab": {
          "base_uri": "https://localhost:8080/"
        },
        "id": "MHqE0SKwgJdl",
        "outputId": "8424c7a2-54a3-4b40-fb29-c1b6bda92038"
      },
      "execution_count": 27,
      "outputs": [
        {
          "output_type": "stream",
          "name": "stdout",
          "text": [
            "Initialized empty Git repository in /content/.git/\n"
          ]
        }
      ]
    },
    {
      "cell_type": "code",
      "source": [
        "!git clone git@github.com:oriolrius/learning_colab.git .\n",
        "!git config --global user.email 'oriol@joor.net'\n",
        "!git config --global user.name 'Oriol Rius'\n",
        "!echo hola > hello.txt\n",
        "!git add hello.txt\n",
        "!git commit -am 'initial import'\n",
        "!git remote -v"
      ],
      "metadata": {
        "colab": {
          "base_uri": "https://localhost:8080/"
        },
        "id": "zqiJi93TgPuE",
        "outputId": "1907b48a-08ac-43ec-c3ac-a6ac189a1b61"
      },
      "execution_count": 46,
      "outputs": [
        {
          "output_type": "stream",
          "name": "stdout",
          "text": [
            "Cloning into '.'...\n",
            "Warning: Permanently added the ECDSA host key for IP address '140.82.121.4' to the list of known hosts.\n",
            "warning: You appear to have cloned an empty repository.\n",
            "[master (root-commit) 543ee69] initial import\n",
            " 1 file changed, 1 insertion(+)\n",
            " create mode 100644 hello.txt\n",
            "origin\tgit@github.com:oriolrius/learning_colab.git (fetch)\n",
            "origin\tgit@github.com:oriolrius/learning_colab.git (push)\n"
          ]
        }
      ]
    },
    {
      "cell_type": "code",
      "source": [
        "!git push"
      ],
      "metadata": {
        "colab": {
          "base_uri": "https://localhost:8080/"
        },
        "id": "ptKsaroXi1D2",
        "outputId": "e8127030-245b-4520-f8e4-70f2ebc18040"
      },
      "execution_count": 47,
      "outputs": [
        {
          "output_type": "stream",
          "name": "stdout",
          "text": [
            "Warning: Permanently added the ECDSA host key for IP address '140.82.114.4' to the list of known hosts.\n",
            "Counting objects: 3, done.\n",
            "Writing objects: 100% (3/3), 217 bytes | 54.00 KiB/s, done.\n",
            "Total 3 (delta 0), reused 0 (delta 0)\n",
            "To github.com:oriolrius/learning_colab.git\n",
            " * [new branch]      master -> master\n"
          ]
        }
      ]
    },
    {
      "cell_type": "code",
      "source": [
        "content = 'Hello World'\n",
        "print(content)"
      ],
      "metadata": {
        "colab": {
          "base_uri": "https://localhost:8080/"
        },
        "id": "AApUKNaYbY1K",
        "outputId": "6c6c74d0-dc7e-4c13-a256-1d17f031afac"
      },
      "execution_count": 5,
      "outputs": [
        {
          "output_type": "stream",
          "name": "stdout",
          "text": [
            "Hello World\n"
          ]
        }
      ]
    }
  ]
}